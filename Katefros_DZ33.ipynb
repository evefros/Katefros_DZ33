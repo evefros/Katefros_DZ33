{
 "cells": [
  {
   "cell_type": "markdown",
   "metadata": {},
   "source": [
    "###### Задание\n",
    "Смоделировать игру против лотерейного автомата типа \"777\". Игрок платит 1 руб., после чего выпадает случайное целое число, равномерно распределенное от 0 до 999. При некоторых значениях числа игрок получает выигрыш:\\ 777: 200 руб.\\ 999: 100 руб.\\ 555: 50 руб.\\ 333: 15 руб.\\ 111: 10 руб.\\ n77: 5 руб.\\ nn7: 3 руб.\\ n00: 2 руб.\\ nn0: 1 руб.\\ n – любая цифра\n",
    "\n",
    "Предполагаею, что если выпадает двузначное или однозначное число, в начале стоят один или два нуля, чтобы число было трехзначное."
   ]
  },
  {
   "cell_type": "code",
   "execution_count": 1,
   "metadata": {},
   "outputs": [],
   "source": [
    "import numpy as np"
   ]
  },
  {
   "cell_type": "code",
   "execution_count": 6,
   "metadata": {},
   "outputs": [
    {
     "data": {
      "text/plain": [
       "791256"
      ]
     },
     "execution_count": 6,
     "metadata": {},
     "output_type": "execute_result"
    }
   ],
   "source": [
    "trials = 1000000    # Количество попыток за 1 руб. каждая\n",
    "wins = 0    # Количество выигранных рублей\n",
    "\n",
    "for i in range(trials):\n",
    "    score = np.random.randint(0, 1000)    # Случайное количество очков от 0 до 999\n",
    "    if score == 777:\n",
    "        wins += 200\n",
    "    elif score == 999:\n",
    "        wins += 100\n",
    "    elif score == 555:\n",
    "        wins += 50\n",
    "    elif score == 333:\n",
    "        wins += 15\n",
    "    elif score == 111:\n",
    "        wins += 10\n",
    "    elif score % 100 == 77:\n",
    "        wins += 5\n",
    "    elif score % 10 == 7:\n",
    "        wins += 3\n",
    "    elif score % 100 == 0:\n",
    "        wins += 2\n",
    "    elif score % 10 == 0:\n",
    "        wins += 1\n",
    "wins #смотрим сколько заработаем за данное количество попыток"
   ]
  },
  {
   "cell_type": "code",
   "execution_count": 7,
   "metadata": {},
   "outputs": [
    {
     "data": {
      "text/plain": [
       "-0.208744"
      ]
     },
     "execution_count": 7,
     "metadata": {},
     "output_type": "execute_result"
    }
   ],
   "source": [
    "profitable = (wins - trials)/trials #считаем сколько сотавляют потери или прибыль на 1 попытку в среднем\n",
    "profitable"
   ]
  },
  {
   "cell_type": "markdown",
   "metadata": {},
   "source": [
    "Получается, в среднем теряем порядка 20 копеек с 1 рубля за попытку.   \n",
    "То есть, в расчете на 1 попытку игра для игрока невыгодна. При этом условна \"выгодность\" может меняться от попытки к попытке."
   ]
  }
 ],
 "metadata": {
  "kernelspec": {
   "display_name": "Python 3",
   "language": "python",
   "name": "python3"
  },
  "language_info": {
   "codemirror_mode": {
    "name": "ipython",
    "version": 3
   },
   "file_extension": ".py",
   "mimetype": "text/x-python",
   "name": "python",
   "nbconvert_exporter": "python",
   "pygments_lexer": "ipython3",
   "version": "3.8.5"
  }
 },
 "nbformat": 4,
 "nbformat_minor": 4
}
